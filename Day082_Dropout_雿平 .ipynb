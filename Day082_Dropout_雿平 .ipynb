{
 "cells": [
  {
   "cell_type": "markdown",
   "metadata": {},
   "source": [
    "## Work\n",
    "1. 請比較使用不同層數以及不同 Dropout rate 對訓練的效果\n",
    "2. 將 optimizer 改成使用 Adam 並加上適當的 dropout rate 檢視結果"
   ]
  },
  {
   "cell_type": "code",
   "execution_count": 1,
   "metadata": {},
   "outputs": [],
   "source": [
    "import os\n",
    "import keras\n",
    "import itertools\n",
    "# Disable GPU\n",
    "os.environ[\"CUDA_VISIBLE_DEVICES\"] = \"\""
   ]
  },
  {
   "cell_type": "code",
   "execution_count": 2,
   "metadata": {},
   "outputs": [],
   "source": [
    "from keras.datasets import cifar10\n",
    "train, test = keras.datasets.cifar10.load_data()"
   ]
  },
  {
   "cell_type": "code",
   "execution_count": 6,
   "metadata": {},
   "outputs": [],
   "source": [
    "## 資料前處理\n",
    "from keras.utils import np_utils\n",
    "def preproc_x(x, flatten=True):\n",
    "    x = x / 255.\n",
    "    if flatten:\n",
    "        x = x.reshape((len(x), -1))\n",
    "    return x\n",
    "\n",
    "def preproc_y(y, num_classes=10):\n",
    "    if y.shape[-1] == 1:\n",
    "        y = np_utils.to_categorical(y, num_classes)\n",
    "    return y    "
   ]
  },
  {
   "cell_type": "code",
   "execution_count": 7,
   "metadata": {},
   "outputs": [],
   "source": [
    "x_train, y_train = train\n",
    "x_test, y_test = test\n",
    "\n",
    "# Preproc the inputs\n",
    "x_train = preproc_x(x_train)\n",
    "x_test = preproc_x(x_test)\n",
    "\n",
    "# Preprc the outputs\n",
    "y_train = preproc_y(y_train)\n",
    "y_test = preproc_y(y_test)"
   ]
  },
  {
   "cell_type": "code",
   "execution_count": 8,
   "metadata": {},
   "outputs": [],
   "source": [
    "from keras.layers import Dropout\n",
    "\n",
    "\"\"\"\n",
    "建立神經網路，並加入 dropout layer\n",
    "\"\"\"\n",
    "def build_mlp(input_shape, output_units=10, num_neurons=[512, 256, 128], drp_ratio=0.2):\n",
    "    input_layer = keras.layers.Input(input_shape)\n",
    "    \n",
    "    for i, n_units in enumerate(num_neurons):\n",
    "        if i == 0:\n",
    "            x = keras.layers.Dense(units=n_units, \n",
    "                                   activation=\"relu\", \n",
    "                                   name=\"hidden_layer\"+str(i+1))(input_layer)\n",
    "            x = Dropout(drp_ratio)(x)\n",
    "        else:\n",
    "            x = keras.layers.Dense(units=n_units, \n",
    "                                   activation=\"relu\", \n",
    "                                   name=\"hidden_layer\"+str(i+1))(x)\n",
    "            x = Dropout(drp_ratio)(x)\n",
    "    \n",
    "    out = keras.layers.Dense(units=output_units, activation=\"softmax\", name=\"output\")(x)\n",
    "    \n",
    "    model = keras.models.Model(inputs=[input_layer], outputs=[out])\n",
    "    return model"
   ]
  },
  {
   "cell_type": "code",
   "execution_count": 9,
   "metadata": {},
   "outputs": [],
   "source": [
    "## 超參數設定\n",
    "LEARNING_RATE = 1e-3\n",
    "EPOCHS = 50\n",
    "BATCH_SIZE = 256\n",
    "MOMENTUM = 0.95\n",
    "Dropout_EXP = 0.25"
   ]
  },
  {
   "cell_type": "code",
   "execution_count": 16,
   "metadata": {
    "scrolled": true
   },
   "outputs": [
    {
     "name": "stdout",
     "output_type": "stream",
     "text": [
      "Model: \"model_4\"\n",
      "_________________________________________________________________\n",
      " Layer (type)                Output Shape              Param #   \n",
      "=================================================================\n",
      " input_5 (InputLayer)        [(None, 3072)]            0         \n",
      "                                                                 \n",
      " hidden_layer1 (Dense)       (None, 512)               1573376   \n",
      "                                                                 \n",
      " dropout_12 (Dropout)        (None, 512)               0         \n",
      "                                                                 \n",
      " hidden_layer2 (Dense)       (None, 256)               131328    \n",
      "                                                                 \n",
      " dropout_13 (Dropout)        (None, 256)               0         \n",
      "                                                                 \n",
      " hidden_layer3 (Dense)       (None, 128)               32896     \n",
      "                                                                 \n",
      " dropout_14 (Dropout)        (None, 128)               0         \n",
      "                                                                 \n",
      " output (Dense)              (None, 10)                1290      \n",
      "                                                                 \n",
      "=================================================================\n",
      "Total params: 1,738,890\n",
      "Trainable params: 1,738,890\n",
      "Non-trainable params: 0\n",
      "_________________________________________________________________\n",
      "Epoch 1/50\n",
      "196/196 [==============================] - 5s 23ms/step - loss: 2.1916 - accuracy: 0.1841 - val_loss: 1.9896 - val_accuracy: 0.3080\n",
      "Epoch 2/50\n",
      "196/196 [==============================] - 4s 21ms/step - loss: 1.9947 - accuracy: 0.2694 - val_loss: 1.8676 - val_accuracy: 0.3508\n",
      "Epoch 3/50\n",
      "196/196 [==============================] - 5s 25ms/step - loss: 1.9097 - accuracy: 0.3088 - val_loss: 1.7980 - val_accuracy: 0.3706\n",
      "Epoch 4/50\n",
      "196/196 [==============================] - 5s 26ms/step - loss: 1.8546 - accuracy: 0.3326 - val_loss: 1.7528 - val_accuracy: 0.3891\n",
      "Epoch 5/50\n",
      "196/196 [==============================] - 5s 26ms/step - loss: 1.8127 - accuracy: 0.3486 - val_loss: 1.7087 - val_accuracy: 0.3946\n",
      "Epoch 6/50\n",
      "196/196 [==============================] - 5s 26ms/step - loss: 1.7797 - accuracy: 0.3610 - val_loss: 1.6774 - val_accuracy: 0.4067\n",
      "Epoch 7/50\n",
      "196/196 [==============================] - 5s 26ms/step - loss: 1.7492 - accuracy: 0.3751 - val_loss: 1.6479 - val_accuracy: 0.4232\n",
      "Epoch 8/50\n",
      "196/196 [==============================] - 5s 25ms/step - loss: 1.7213 - accuracy: 0.3860 - val_loss: 1.6252 - val_accuracy: 0.4256\n",
      "Epoch 9/50\n",
      "196/196 [==============================] - 5s 26ms/step - loss: 1.7028 - accuracy: 0.3921 - val_loss: 1.5989 - val_accuracy: 0.4375\n",
      "Epoch 10/50\n",
      "196/196 [==============================] - 5s 26ms/step - loss: 1.6771 - accuracy: 0.4035 - val_loss: 1.5864 - val_accuracy: 0.4355\n",
      "Epoch 11/50\n",
      "196/196 [==============================] - 5s 26ms/step - loss: 1.6594 - accuracy: 0.4111 - val_loss: 1.5720 - val_accuracy: 0.4473\n",
      "Epoch 12/50\n",
      "196/196 [==============================] - 5s 26ms/step - loss: 1.6406 - accuracy: 0.4149 - val_loss: 1.5442 - val_accuracy: 0.4558\n",
      "Epoch 13/50\n",
      "196/196 [==============================] - 5s 26ms/step - loss: 1.6232 - accuracy: 0.4225 - val_loss: 1.5319 - val_accuracy: 0.4578\n",
      "Epoch 14/50\n",
      "196/196 [==============================] - 5s 26ms/step - loss: 1.6128 - accuracy: 0.4262 - val_loss: 1.5176 - val_accuracy: 0.4628\n",
      "Epoch 15/50\n",
      "196/196 [==============================] - 5s 26ms/step - loss: 1.5894 - accuracy: 0.4344 - val_loss: 1.5072 - val_accuracy: 0.4677\n",
      "Epoch 16/50\n",
      "196/196 [==============================] - 5s 27ms/step - loss: 1.5784 - accuracy: 0.4406 - val_loss: 1.4963 - val_accuracy: 0.4723\n",
      "Epoch 17/50\n",
      "196/196 [==============================] - 5s 26ms/step - loss: 1.5655 - accuracy: 0.4441 - val_loss: 1.4889 - val_accuracy: 0.4724\n",
      "Epoch 18/50\n",
      "196/196 [==============================] - 5s 26ms/step - loss: 1.5541 - accuracy: 0.4468 - val_loss: 1.4787 - val_accuracy: 0.4740\n",
      "Epoch 19/50\n",
      "196/196 [==============================] - 5s 27ms/step - loss: 1.5393 - accuracy: 0.4517 - val_loss: 1.4660 - val_accuracy: 0.4772\n",
      "Epoch 20/50\n",
      "196/196 [==============================] - 5s 27ms/step - loss: 1.5318 - accuracy: 0.4562 - val_loss: 1.4566 - val_accuracy: 0.4832\n",
      "Epoch 21/50\n",
      "196/196 [==============================] - 5s 27ms/step - loss: 1.5163 - accuracy: 0.4609 - val_loss: 1.4427 - val_accuracy: 0.4912\n",
      "Epoch 22/50\n",
      "196/196 [==============================] - 5s 27ms/step - loss: 1.5098 - accuracy: 0.4613 - val_loss: 1.4371 - val_accuracy: 0.4923\n",
      "Epoch 23/50\n",
      "196/196 [==============================] - 5s 27ms/step - loss: 1.4969 - accuracy: 0.4668 - val_loss: 1.4295 - val_accuracy: 0.4955\n",
      "Epoch 24/50\n",
      "196/196 [==============================] - 6s 31ms/step - loss: 1.4851 - accuracy: 0.4723 - val_loss: 1.4276 - val_accuracy: 0.4933\n",
      "Epoch 25/50\n",
      "196/196 [==============================] - 6s 32ms/step - loss: 1.4771 - accuracy: 0.4742 - val_loss: 1.4195 - val_accuracy: 0.4966\n",
      "Epoch 26/50\n",
      "196/196 [==============================] - 7s 34ms/step - loss: 1.4663 - accuracy: 0.4767 - val_loss: 1.4145 - val_accuracy: 0.4998\n",
      "Epoch 27/50\n",
      "196/196 [==============================] - 7s 33ms/step - loss: 1.4577 - accuracy: 0.4802 - val_loss: 1.4044 - val_accuracy: 0.5051\n",
      "Epoch 28/50\n",
      "196/196 [==============================] - 7s 34ms/step - loss: 1.4508 - accuracy: 0.4831 - val_loss: 1.3958 - val_accuracy: 0.5004\n",
      "Epoch 29/50\n",
      "196/196 [==============================] - 7s 35ms/step - loss: 1.4385 - accuracy: 0.4879 - val_loss: 1.3890 - val_accuracy: 0.5052\n",
      "Epoch 30/50\n",
      "196/196 [==============================] - 7s 35ms/step - loss: 1.4316 - accuracy: 0.4907 - val_loss: 1.3791 - val_accuracy: 0.5108\n",
      "Epoch 31/50\n",
      "196/196 [==============================] - 7s 35ms/step - loss: 1.4236 - accuracy: 0.4938 - val_loss: 1.3749 - val_accuracy: 0.5130\n",
      "Epoch 32/50\n",
      "196/196 [==============================] - 7s 35ms/step - loss: 1.4178 - accuracy: 0.4938 - val_loss: 1.3774 - val_accuracy: 0.5090\n",
      "Epoch 33/50\n",
      "196/196 [==============================] - 7s 33ms/step - loss: 1.4034 - accuracy: 0.5004 - val_loss: 1.3778 - val_accuracy: 0.5093\n",
      "Epoch 34/50\n",
      "196/196 [==============================] - 6s 31ms/step - loss: 1.3965 - accuracy: 0.5017 - val_loss: 1.3693 - val_accuracy: 0.5109\n",
      "Epoch 35/50\n",
      "196/196 [==============================] - 6s 29ms/step - loss: 1.3899 - accuracy: 0.5021 - val_loss: 1.3683 - val_accuracy: 0.5107\n",
      "Epoch 36/50\n",
      "196/196 [==============================] - 6s 29ms/step - loss: 1.3812 - accuracy: 0.5064 - val_loss: 1.3605 - val_accuracy: 0.5136\n",
      "Epoch 37/50\n",
      "196/196 [==============================] - 6s 30ms/step - loss: 1.3738 - accuracy: 0.5090 - val_loss: 1.3496 - val_accuracy: 0.5223\n",
      "Epoch 38/50\n",
      "196/196 [==============================] - 6s 31ms/step - loss: 1.3640 - accuracy: 0.5115 - val_loss: 1.3559 - val_accuracy: 0.5228\n",
      "Epoch 39/50\n",
      "196/196 [==============================] - 6s 29ms/step - loss: 1.3640 - accuracy: 0.5112 - val_loss: 1.3486 - val_accuracy: 0.5202\n",
      "Epoch 40/50\n",
      "196/196 [==============================] - 6s 30ms/step - loss: 1.3520 - accuracy: 0.5179 - val_loss: 1.3504 - val_accuracy: 0.5223\n",
      "Epoch 41/50\n",
      "196/196 [==============================] - 6s 29ms/step - loss: 1.3448 - accuracy: 0.5182 - val_loss: 1.3370 - val_accuracy: 0.5239\n",
      "Epoch 42/50\n",
      "196/196 [==============================] - 6s 30ms/step - loss: 1.3387 - accuracy: 0.5233 - val_loss: 1.3321 - val_accuracy: 0.5238\n",
      "Epoch 43/50\n",
      "196/196 [==============================] - 6s 30ms/step - loss: 1.3279 - accuracy: 0.5261 - val_loss: 1.3317 - val_accuracy: 0.5215\n",
      "Epoch 44/50\n",
      "196/196 [==============================] - 6s 30ms/step - loss: 1.3217 - accuracy: 0.5280 - val_loss: 1.3330 - val_accuracy: 0.5227\n",
      "Epoch 45/50\n",
      "196/196 [==============================] - 6s 29ms/step - loss: 1.3155 - accuracy: 0.5310 - val_loss: 1.3343 - val_accuracy: 0.5285\n",
      "Epoch 46/50\n",
      "196/196 [==============================] - 6s 30ms/step - loss: 1.3137 - accuracy: 0.5293 - val_loss: 1.3185 - val_accuracy: 0.5334\n",
      "Epoch 47/50\n",
      "196/196 [==============================] - 6s 29ms/step - loss: 1.3066 - accuracy: 0.5334 - val_loss: 1.3173 - val_accuracy: 0.5311\n"
     ]
    },
    {
     "name": "stdout",
     "output_type": "stream",
     "text": [
      "Epoch 48/50\n",
      "196/196 [==============================] - 6s 28ms/step - loss: 1.3021 - accuracy: 0.5337 - val_loss: 1.3142 - val_accuracy: 0.5354\n",
      "Epoch 49/50\n",
      "196/196 [==============================] - 6s 29ms/step - loss: 1.2936 - accuracy: 0.5367 - val_loss: 1.3116 - val_accuracy: 0.5329\n",
      "Epoch 50/50\n",
      "196/196 [==============================] - 6s 29ms/step - loss: 1.2863 - accuracy: 0.5399 - val_loss: 1.3318 - val_accuracy: 0.5231\n"
     ]
    }
   ],
   "source": [
    "model = build_mlp(input_shape=x_train.shape[1:], drp_ratio=Dropout_EXP)\n",
    "import tensorflow as tf\n",
    "model.summary()\n",
    "optimizer = tf.keras.optimizers.SGD(lr=LEARNING_RATE, nesterov=True, momentum=MOMENTUM)\n",
    "model.compile(loss=\"categorical_crossentropy\", metrics=[\"accuracy\"], optimizer=optimizer)\n",
    "\n",
    "model.fit(x_train, y_train, \n",
    "          epochs=EPOCHS, \n",
    "          batch_size=BATCH_SIZE, \n",
    "          validation_data=(x_test, y_test), \n",
    "          shuffle=True)\n",
    "\n",
    "# Collect results\n",
    "train_loss = model.history.history[\"loss\"]\n",
    "valid_loss = model.history.history[\"val_loss\"]\n",
    "train_acc = model.history.history[\"accuracy\"]\n",
    "valid_acc = model.history.history[\"val_accuracy\"]"
   ]
  },
  {
   "cell_type": "code",
   "execution_count": 17,
   "metadata": {},
   "outputs": [
    {
     "data": {
      "image/png": "[encoded data removed]",
      "text/plain": [
       "<Figure size 432x288 with 1 Axes>"
      ]
     },
     "metadata": {
      "needs_background": "light"
     },
     "output_type": "display_data"
    },
    {
     "data": {
      "image/png": "[encoded data removed]",
      "text/plain": [
       "<Figure size 432x288 with 1 Axes>"
      ]
     },
     "metadata": {
      "needs_background": "light"
     },
     "output_type": "display_data"
    }
   ],
   "source": [
    "import matplotlib.pyplot as plt\n",
    "%matplotlib inline\n",
    "\n",
    "plt.plot(range(len(train_loss)), train_loss, label=\"train loss\")\n",
    "plt.plot(range(len(valid_loss)), valid_loss, label=\"valid loss\")\n",
    "plt.legend()\n",
    "plt.title(\"Loss\")\n",
    "plt.show()\n",
    "\n",
    "plt.plot(range(len(train_acc)), train_acc, label=\"train accuracy\")\n",
    "plt.plot(range(len(valid_acc)), valid_acc, label=\"valid accuracy\")\n",
    "plt.legend()\n",
    "plt.title(\"Accuracy\")\n",
    "plt.show()"
   ]
  },
  {
   "cell_type": "code",
   "execution_count": null,
   "metadata": {},
   "outputs": [],
   "source": []
  }
 ],
 "metadata": {
  "kernelspec": {
   "display_name": "Python 3 (ipykernel)",
   "language": "python",
   "name": "python3"
  },
  "language_info": {
   "codemirror_mode": {
    "name": "ipython",
    "version": 3
   },
   "file_extension": ".py",
   "mimetype": "text/x-python",
   "name": "python",
   "nbconvert_exporter": "python",
   "pygments_lexer": "ipython3",
   "version": "3.9.7"
  }
 },
 "nbformat": 4,
 "nbformat_minor": 2
}
