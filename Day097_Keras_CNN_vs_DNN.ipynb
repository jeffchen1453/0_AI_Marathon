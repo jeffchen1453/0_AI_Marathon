{
 "cells": [
  {
   "cell_type": "code",
   "execution_count": 3,
   "metadata": {},
   "outputs": [],
   "source": [
    "import keras\n",
    "from keras.datasets import cifar10\n",
    "from keras.preprocessing.image import ImageDataGenerator\n",
    "from keras.models import Sequential\n",
    "from keras.layers import Dense, Dropout, Activation, Flatten\n",
    "from keras.layers import Conv2D, MaxPooling2D\n",
    "from tensorflow.keras.optimizers import RMSprop,Adam\n",
    "import os"
   ]
  },
  {
   "cell_type": "code",
   "execution_count": 4,
   "metadata": {},
   "outputs": [
    {
     "name": "stdout",
     "output_type": "stream",
     "text": [
      "x_train shape: (50000, 32, 32, 3)\n",
      "50000 train samples\n",
      "10000 test samples\n"
     ]
    }
   ],
   "source": [
    "batch_size = 128 # batch 的大小，如果出現 OOM error，請降低這個值\n",
    "num_classes = 10 # 類別的數量，Cifar 10 共有 10 個類別\n",
    "epochs = 10 # 訓練的 epochs 數量\n",
    "\n",
    "# 讀取資料並檢視\n",
    "(x_train, y_train), (x_test, y_test) = cifar10.load_data()\n",
    "print('x_train shape:', x_train.shape)\n",
    "print(x_train.shape[0], 'train samples')\n",
    "print(x_test.shape[0], 'test samples')\n",
    "from keras.utils import np_utils\n",
    "# 對 label 進行 one-hot encoding (y_trian 原本是純數字)\n",
    "y_train = np_utils.to_categorical(y_train, num_classes)\n",
    "y_test = np_utils.to_categorical(y_test, num_classes)"
   ]
  },
  {
   "cell_type": "markdown",
   "metadata": {},
   "source": [
    "## 首先我們使用一般的 DNN (MLP) 來訓練\n",
    "由於 DNN 只能輸入一維的資料，我們要先將影像進行攤平，若 (50000, 32, 32, 3) 的影像，攤平後會變成 (50000, 32*32*3) = (50000, 3072)"
   ]
  },
  {
   "cell_type": "code",
   "execution_count": 5,
   "metadata": {},
   "outputs": [
    {
     "name": "stdout",
     "output_type": "stream",
     "text": [
      "50000 train samples\n",
      "10000 test samples\n"
     ]
    }
   ],
   "source": [
    "# 將資料攤平成一維資料\n",
    "x_train = x_train.reshape(50000, 3072) \n",
    "x_test = x_test.reshape(10000, 3072)\n",
    "\n",
    "# 將資料變為 float32 並標準化\n",
    "x_train = x_train.astype('float32')\n",
    "x_test = x_test.astype('float32')\n",
    "x_train /= 255\n",
    "x_test /= 255\n",
    "print(x_train.shape[0], 'train samples')\n",
    "print(x_test.shape[0], 'test samples')"
   ]
  },
  {
   "cell_type": "code",
   "execution_count": 6,
   "metadata": {},
   "outputs": [
    {
     "name": "stdout",
     "output_type": "stream",
     "text": [
      "Model: \"sequential\"\n",
      "_________________________________________________________________\n",
      " Layer (type)                Output Shape              Param #   \n",
      "=================================================================\n",
      " dense (Dense)               (None, 512)               1573376   \n",
      "                                                                 \n",
      " dropout (Dropout)           (None, 512)               0         \n",
      "                                                                 \n",
      " dense_1 (Dense)             (None, 512)               262656    \n",
      "                                                                 \n",
      " dropout_1 (Dropout)         (None, 512)               0         \n",
      "                                                                 \n",
      " dense_2 (Dense)             (None, 10)                5130      \n",
      "                                                                 \n",
      "=================================================================\n",
      "Total params: 1,841,162\n",
      "Trainable params: 1,841,162\n",
      "Non-trainable params: 0\n",
      "_________________________________________________________________\n",
      "Epoch 1/10\n",
      "391/391 [==============================] - 13s 32ms/step - loss: 2.1888 - accuracy: 0.2460 - val_loss: 1.9028 - val_accuracy: 0.3028\n",
      "Epoch 2/10\n",
      "391/391 [==============================] - 12s 31ms/step - loss: 1.8507 - accuracy: 0.3328 - val_loss: 1.7520 - val_accuracy: 0.3829\n",
      "Epoch 3/10\n",
      "391/391 [==============================] - 13s 32ms/step - loss: 1.7627 - accuracy: 0.3678 - val_loss: 1.6848 - val_accuracy: 0.3954\n",
      "Epoch 4/10\n",
      "391/391 [==============================] - 13s 33ms/step - loss: 1.7158 - accuracy: 0.3849 - val_loss: 1.6092 - val_accuracy: 0.4325\n",
      "Epoch 5/10\n",
      "391/391 [==============================] - 13s 32ms/step - loss: 1.6783 - accuracy: 0.3979 - val_loss: 1.6532 - val_accuracy: 0.4301\n",
      "Epoch 6/10\n",
      "391/391 [==============================] - 13s 32ms/step - loss: 1.6490 - accuracy: 0.4091 - val_loss: 1.6321 - val_accuracy: 0.4084\n",
      "Epoch 7/10\n",
      "391/391 [==============================] - 13s 32ms/step - loss: 1.6253 - accuracy: 0.4217 - val_loss: 1.5870 - val_accuracy: 0.4387\n",
      "Epoch 8/10\n",
      "391/391 [==============================] - 13s 32ms/step - loss: 1.6021 - accuracy: 0.4293 - val_loss: 1.5764 - val_accuracy: 0.4378\n",
      "Epoch 9/10\n",
      "391/391 [==============================] - 13s 32ms/step - loss: 1.5918 - accuracy: 0.4317 - val_loss: 1.6249 - val_accuracy: 0.4100\n",
      "Epoch 10/10\n",
      "391/391 [==============================] - 13s 32ms/step - loss: 1.5825 - accuracy: 0.4353 - val_loss: 1.5191 - val_accuracy: 0.4709\n",
      "Test loss: 1.5190709829330444\n",
      "Test accuracy: 0.4708999991416931\n"
     ]
    }
   ],
   "source": [
    "model = Sequential()\n",
    "model.add(Dense(512, activation='relu', input_shape=(3072,)))\n",
    "model.add(Dropout(0.2))\n",
    "model.add(Dense(512, activation='relu'))\n",
    "model.add(Dropout(0.2))\n",
    "model.add(Dense(num_classes, activation='softmax'))\n",
    "\n",
    "model.summary()\n",
    "\n",
    "model.compile(loss='categorical_crossentropy',\n",
    "              optimizer=RMSprop(),\n",
    "              metrics=['accuracy'])\n",
    "\n",
    "history = model.fit(x_train, y_train,\n",
    "                    batch_size=batch_size,\n",
    "                    epochs=epochs,\n",
    "                    verbose=1,\n",
    "                    validation_data=(x_test, y_test))\n",
    "score = model.evaluate(x_test, y_test, verbose=0)\n",
    "print('Test loss:', score[0])\n",
    "print('Test accuracy:', score[1])"
   ]
  },
  {
   "cell_type": "markdown",
   "metadata": {},
   "source": [
    "## 接下來我們使用 CNN 來訓練神經網路\n",
    "CNN 的原理非常適合處理影像類的資料，就讓我們來看看，同樣的訓練條件，CNN 是否顯著優於 DNN 呢?"
   ]
  },
  {
   "cell_type": "code",
   "execution_count": 8,
   "metadata": {},
   "outputs": [
    {
     "name": "stdout",
     "output_type": "stream",
     "text": [
      "x_train shape: (50000, 32, 32, 3)\n",
      "50000 train samples\n",
      "10000 test samples\n"
     ]
    }
   ],
   "source": [
    "(x_train, y_train), (x_test, y_test) = cifar10.load_data()\n",
    "print('x_train shape:', x_train.shape)\n",
    "print(x_train.shape[0], 'train samples')\n",
    "print(x_test.shape[0], 'test samples')\n",
    "x_train = x_train.astype('float32')\n",
    "x_test = x_test.astype('float32')\n",
    "x_train /= 255\n",
    "x_test /= 255\n",
    "\n",
    "# Convert class vectors to binary class matrices.\n",
    "y_train = np_utils.to_categorical(y_train, num_classes)\n",
    "y_test = np_utils.to_categorical(y_test, num_classes)"
   ]
  },
  {
   "cell_type": "code",
   "execution_count": 9,
   "metadata": {},
   "outputs": [
    {
     "name": "stdout",
     "output_type": "stream",
     "text": [
      "Model: \"sequential_1\"\n",
      "_________________________________________________________________\n",
      " Layer (type)                Output Shape              Param #   \n",
      "=================================================================\n",
      " conv2d (Conv2D)             (None, 32, 32, 32)        896       \n",
      "                                                                 \n",
      " activation (Activation)     (None, 32, 32, 32)        0         \n",
      "                                                                 \n",
      " conv2d_1 (Conv2D)           (None, 30, 30, 32)        9248      \n",
      "                                                                 \n",
      " activation_1 (Activation)   (None, 30, 30, 32)        0         \n",
      "                                                                 \n",
      " max_pooling2d (MaxPooling2D  (None, 15, 15, 32)       0         \n",
      " )                                                               \n",
      "                                                                 \n",
      " dropout_2 (Dropout)         (None, 15, 15, 32)        0         \n",
      "                                                                 \n",
      " conv2d_2 (Conv2D)           (None, 15, 15, 64)        18496     \n",
      "                                                                 \n",
      " activation_2 (Activation)   (None, 15, 15, 64)        0         \n",
      "                                                                 \n",
      " conv2d_3 (Conv2D)           (None, 13, 13, 64)        36928     \n",
      "                                                                 \n",
      " activation_3 (Activation)   (None, 13, 13, 64)        0         \n",
      "                                                                 \n",
      " max_pooling2d_1 (MaxPooling  (None, 6, 6, 64)         0         \n",
      " 2D)                                                             \n",
      "                                                                 \n",
      " dropout_3 (Dropout)         (None, 6, 6, 64)          0         \n",
      "                                                                 \n",
      " flatten (Flatten)           (None, 2304)              0         \n",
      "                                                                 \n",
      " dense_3 (Dense)             (None, 512)               1180160   \n",
      "                                                                 \n",
      " activation_4 (Activation)   (None, 512)               0         \n",
      "                                                                 \n",
      " dropout_4 (Dropout)         (None, 512)               0         \n",
      "                                                                 \n",
      " dense_4 (Dense)             (None, 10)                5130      \n",
      "                                                                 \n",
      " activation_5 (Activation)   (None, 10)                0         \n",
      "                                                                 \n",
      "=================================================================\n",
      "Total params: 1,250,858\n",
      "Trainable params: 1,250,858\n",
      "Non-trainable params: 0\n",
      "_________________________________________________________________\n",
      "Epoch 1/10\n",
      "391/391 [==============================] - 119s 302ms/step - loss: 1.7169 - accuracy: 0.3769 - val_loss: 1.2912 - val_accuracy: 0.5413\n",
      "Epoch 2/10\n",
      "391/391 [==============================] - 117s 300ms/step - loss: 1.2708 - accuracy: 0.5500 - val_loss: 1.0489 - val_accuracy: 0.6322\n",
      "Epoch 3/10\n",
      "391/391 [==============================] - 118s 302ms/step - loss: 1.0691 - accuracy: 0.6219 - val_loss: 0.9248 - val_accuracy: 0.6807\n",
      "Epoch 4/10\n",
      "391/391 [==============================] - 118s 302ms/step - loss: 0.9457 - accuracy: 0.6693 - val_loss: 1.0416 - val_accuracy: 0.6426\n",
      "Epoch 5/10\n",
      "391/391 [==============================] - 118s 302ms/step - loss: 0.8699 - accuracy: 0.6962 - val_loss: 0.8861 - val_accuracy: 0.6941\n",
      "Epoch 6/10\n",
      "391/391 [==============================] - 119s 305ms/step - loss: 0.7983 - accuracy: 0.7203 - val_loss: 0.7358 - val_accuracy: 0.7438\n",
      "Epoch 7/10\n",
      "391/391 [==============================] - 122s 311ms/step - loss: 0.7406 - accuracy: 0.7422 - val_loss: 0.7289 - val_accuracy: 0.7477\n",
      "Epoch 8/10\n",
      "391/391 [==============================] - 118s 303ms/step - loss: 0.7068 - accuracy: 0.7569 - val_loss: 0.7264 - val_accuracy: 0.7516\n",
      "Epoch 9/10\n",
      "391/391 [==============================] - 118s 302ms/step - loss: 0.6727 - accuracy: 0.7665 - val_loss: 0.7280 - val_accuracy: 0.7544\n",
      "Epoch 10/10\n",
      "391/391 [==============================] - 118s 300ms/step - loss: 0.6461 - accuracy: 0.7774 - val_loss: 0.8225 - val_accuracy: 0.7332\n",
      "Test loss: 0.8224830031394958\n",
      "Test accuracy: 0.7332000136375427\n"
     ]
    }
   ],
   "source": [
    "model = Sequential()\n",
    "model.add(Conv2D(32, (3, 3), padding='same',\n",
    "                 input_shape=x_train.shape[1:]))\n",
    "model.add(Activation('relu'))\n",
    "model.add(Conv2D(32, (3, 3)))\n",
    "model.add(Activation('relu'))\n",
    "model.add(MaxPooling2D(pool_size=(2, 2)))\n",
    "model.add(Dropout(0.25))\n",
    "\n",
    "model.add(Conv2D(64, (3, 3), padding='same'))\n",
    "model.add(Activation('relu'))\n",
    "model.add(Conv2D(64, (3, 3)))\n",
    "model.add(Activation('relu'))\n",
    "model.add(MaxPooling2D(pool_size=(2, 2)))\n",
    "model.add(Dropout(0.25))\n",
    "\n",
    "model.add(Flatten())\n",
    "model.add(Dense(512))\n",
    "model.add(Activation('relu'))\n",
    "model.add(Dropout(0.5))\n",
    "model.add(Dense(num_classes))\n",
    "model.add(Activation('softmax'))\n",
    "model.summary()\n",
    "\n",
    "model.compile(loss='categorical_crossentropy',\n",
    "              optimizer=RMSprop(),\n",
    "              metrics=['accuracy'])\n",
    "\n",
    "history = model.fit(x_train, y_train,\n",
    "                    batch_size=batch_size,\n",
    "                    epochs=epochs,\n",
    "                    verbose=1,\n",
    "                    validation_data=(x_test, y_test))\n",
    "score = model.evaluate(x_test, y_test, verbose=0)\n",
    "print('Test loss:', score[0])\n",
    "print('Test accuracy:', score[1])"
   ]
  },
  {
   "cell_type": "markdown",
   "metadata": {},
   "source": [
    "## 同樣運算 10 個 epochs，但 CNN 在 test data 的準確率顯著優於 DNN!"
   ]
  },
  {
   "cell_type": "markdown",
   "metadata": {},
   "source": [
    "## 作業\n",
    "1. 請試著調整各個超參數，並說明那些超參數對於結果有明顯的影響?\n",
    "2. CNN 與 DNN 哪個模型的參數數量比較多? 造成參數的數量不同的原因在哪?"
   ]
  },
  {
   "cell_type": "code",
   "execution_count": 10,
   "metadata": {},
   "outputs": [
    {
     "name": "stdout",
     "output_type": "stream",
     "text": [
      "Model: \"sequential_2\"\n",
      "_________________________________________________________________\n",
      " Layer (type)                Output Shape              Param #   \n",
      "=================================================================\n",
      " conv2d_4 (Conv2D)           (None, 32, 32, 32)        1568      \n",
      "                                                                 \n",
      " activation_6 (Activation)   (None, 32, 32, 32)        0         \n",
      "                                                                 \n",
      " conv2d_5 (Conv2D)           (None, 29, 29, 32)        16416     \n",
      "                                                                 \n",
      " activation_7 (Activation)   (None, 29, 29, 32)        0         \n",
      "                                                                 \n",
      " max_pooling2d_2 (MaxPooling  (None, 14, 14, 32)       0         \n",
      " 2D)                                                             \n",
      "                                                                 \n",
      " dropout_5 (Dropout)         (None, 14, 14, 32)        0         \n",
      "                                                                 \n",
      " conv2d_6 (Conv2D)           (None, 14, 14, 64)        18496     \n",
      "                                                                 \n",
      " activation_8 (Activation)   (None, 14, 14, 64)        0         \n",
      "                                                                 \n",
      " conv2d_7 (Conv2D)           (None, 12, 12, 64)        36928     \n",
      "                                                                 \n",
      " activation_9 (Activation)   (None, 12, 12, 64)        0         \n",
      "                                                                 \n",
      " max_pooling2d_3 (MaxPooling  (None, 6, 6, 64)         0         \n",
      " 2D)                                                             \n",
      "                                                                 \n",
      " dropout_6 (Dropout)         (None, 6, 6, 64)          0         \n",
      "                                                                 \n",
      " flatten_1 (Flatten)         (None, 2304)              0         \n",
      "                                                                 \n",
      " dense_5 (Dense)             (None, 1024)              2360320   \n",
      "                                                                 \n",
      " activation_10 (Activation)  (None, 1024)              0         \n",
      "                                                                 \n",
      " dropout_7 (Dropout)         (None, 1024)              0         \n",
      "                                                                 \n",
      " dense_6 (Dense)             (None, 10)                10250     \n",
      "                                                                 \n",
      " activation_11 (Activation)  (None, 10)                0         \n",
      "                                                                 \n",
      "=================================================================\n",
      "Total params: 2,443,978\n",
      "Trainable params: 2,443,978\n",
      "Non-trainable params: 0\n",
      "_________________________________________________________________\n",
      "Epoch 1/10\n",
      "391/391 [==============================] - 159s 402ms/step - loss: 1.7666 - accuracy: 0.3634 - val_loss: 1.4305 - val_accuracy: 0.4941\n",
      "Epoch 2/10\n",
      "391/391 [==============================] - 157s 402ms/step - loss: 1.2942 - accuracy: 0.5402 - val_loss: 1.0900 - val_accuracy: 0.6105\n",
      "Epoch 3/10\n",
      "391/391 [==============================] - 159s 406ms/step - loss: 1.0771 - accuracy: 0.6215 - val_loss: 1.3208 - val_accuracy: 0.5585\n",
      "Epoch 4/10\n",
      "391/391 [==============================] - 161s 412ms/step - loss: 0.9437 - accuracy: 0.6690 - val_loss: 0.8527 - val_accuracy: 0.7057\n",
      "Epoch 5/10\n",
      "391/391 [==============================] - 161s 411ms/step - loss: 0.8571 - accuracy: 0.7012 - val_loss: 0.8159 - val_accuracy: 0.7222\n",
      "Epoch 6/10\n",
      "391/391 [==============================] - 161s 413ms/step - loss: 0.7866 - accuracy: 0.7265 - val_loss: 0.7726 - val_accuracy: 0.7380\n",
      "Epoch 7/10\n",
      "391/391 [==============================] - 162s 415ms/step - loss: 0.7370 - accuracy: 0.7432 - val_loss: 0.7293 - val_accuracy: 0.7508\n",
      "Epoch 8/10\n",
      "391/391 [==============================] - 161s 412ms/step - loss: 0.6946 - accuracy: 0.7586 - val_loss: 0.7277 - val_accuracy: 0.7563\n",
      "Epoch 9/10\n",
      "391/391 [==============================] - 171s 437ms/step - loss: 0.6654 - accuracy: 0.7698 - val_loss: 0.7246 - val_accuracy: 0.7613\n",
      "Epoch 10/10\n",
      "391/391 [==============================] - 163s 417ms/step - loss: 0.6439 - accuracy: 0.7797 - val_loss: 0.7168 - val_accuracy: 0.7654\n",
      "Test loss: 0.7167729735374451\n",
      "Test accuracy: 0.7653999924659729\n"
     ]
    }
   ],
   "source": [
    "model = Sequential()\n",
    "model.add(Conv2D(32, (4, 4), padding='same',\n",
    "                 input_shape=x_train.shape[1:]))\n",
    "model.add(Activation('relu'))\n",
    "model.add(Conv2D(32, (4, 4)))\n",
    "model.add(Activation('relu'))\n",
    "model.add(MaxPooling2D(pool_size=(2, 2)))\n",
    "model.add(Dropout(0.25))\n",
    "\n",
    "model.add(Conv2D(64, (3, 3), padding='same'))\n",
    "model.add(Activation('relu'))\n",
    "model.add(Conv2D(64, (3, 3)))\n",
    "model.add(Activation('relu'))\n",
    "model.add(MaxPooling2D(pool_size=(2, 2)))\n",
    "model.add(Dropout(0.25))\n",
    "\n",
    "model.add(Flatten())\n",
    "model.add(Dense(1024))\n",
    "model.add(Activation('relu'))\n",
    "model.add(Dropout(0.5))\n",
    "model.add(Dense(num_classes))\n",
    "model.add(Activation('softmax'))\n",
    "model.summary()\n",
    "\n",
    "model.compile(loss='categorical_crossentropy',\n",
    "              optimizer=RMSprop(),\n",
    "              metrics=['accuracy'])\n",
    "\n",
    "history = model.fit(x_train, y_train,\n",
    "                    batch_size=batch_size,\n",
    "                    epochs=epochs,\n",
    "                    verbose=1,\n",
    "                    validation_data=(x_test, y_test))\n",
    "score = model.evaluate(x_test, y_test, verbose=0)\n",
    "print('Test loss:', score[0])\n",
    "print('Test accuracy:', score[1])"
   ]
  },
  {
   "cell_type": "markdown",
   "metadata": {},
   "source": [
    "# 1. 提升dropout的比例--> 準確度下降\n",
    "# 2. DNN模型參數比較多，因為CNN有效利用捲積的特性，DNN參數較多，因為是全連接層；而CNN則是以feature map縮減模型訓練參數量"
   ]
  },
  {
   "cell_type": "markdown",
   "metadata": {},
   "source": []
  }
 ],
 "metadata": {
  "kernelspec": {
   "display_name": "Python 3 (ipykernel)",
   "language": "python",
   "name": "python3"
  },
  "language_info": {
   "codemirror_mode": {
    "name": "ipython",
    "version": 3
   },
   "file_extension": ".py",
   "mimetype": "text/x-python",
   "name": "python",
   "nbconvert_exporter": "python",
   "pygments_lexer": "ipython3",
   "version": "3.9.7"
  }
 },
 "nbformat": 4,
 "nbformat_minor": 2
}
