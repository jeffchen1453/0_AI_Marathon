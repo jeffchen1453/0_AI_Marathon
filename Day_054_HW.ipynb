{
 "cells": [
  {
   "cell_type": "markdown",
   "id": "42c40cf9",
   "metadata": {},
   "source": [
    "## 作業\n",
    "\n",
    "### 試著想想看, 非監督學習是否有可能使用評價函數 (Metric) 來鑑別好壞呢?\n",
    "\n",
    "### (Hint : 可以分為 \"有目標值\" 與 \"無目標值\" 兩個方向思考)"
   ]
  },
  {
   "cell_type": "markdown",
   "id": "4f1520fb",
   "metadata": {},
   "source": [
    "## 我的回答\n",
    "\n",
    "### 有目標值：當有目標值時才能利用Metric鑑別模型好壞。是分類問題，預測結果是[0,1,1,1,1], 而目標結果是[0.1,0,1,1]，Acccurcy就是4/5 = 0.8\n",
    "\n",
    "### 無目標值：無目標值就沒有比較基準，是分群問題，所以無法用Metric鑑別好壞。"
   ]
  },
  {
   "cell_type": "code",
   "execution_count": null,
   "id": "05ef04b3",
   "metadata": {},
   "outputs": [],
   "source": []
  }
 ],
 "metadata": {
  "kernelspec": {
   "display_name": "Python 3 (ipykernel)",
   "language": "python",
   "name": "python3"
  },
  "language_info": {
   "codemirror_mode": {
    "name": "ipython",
    "version": 3
   },
   "file_extension": ".py",
   "mimetype": "text/x-python",
   "name": "python",
   "nbconvert_exporter": "python",
   "pygments_lexer": "ipython3",
   "version": "3.9.7"
  }
 },
 "nbformat": 4,
 "nbformat_minor": 5
}
