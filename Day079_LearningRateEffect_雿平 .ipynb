{
 "cells": [
  {
   "cell_type": "markdown",
   "metadata": {},
   "source": [
    "## Work\n",
    "1. 請比較 SGD optimizer 不同的 momentum 及使用 nesterov 與否的表現"
   ]
  },
  {
   "cell_type": "code",
   "execution_count": 1,
   "metadata": {},
   "outputs": [],
   "source": [
    "import os\n",
    "import keras\n",
    "\n",
    "# 本作業可以不需使用 GPU, 將 GPU 設定為 \"無\" (若想使用可自行開啟)\n",
    "os.environ[\"CUDA_VISIBLE_DEVICES\"] = \"\""
   ]
  },
  {
   "cell_type": "code",
   "execution_count": 3,
   "metadata": {},
   "outputs": [],
   "source": [
    "from keras.datasets import cifar10\n",
    "train, test = keras.datasets.cifar10.load_data()"
   ]
  },
  {
   "cell_type": "code",
   "execution_count": 8,
   "metadata": {},
   "outputs": [],
   "source": [
    "## 資料前處理\n",
    "from keras.utils import np_utils\n",
    "def preproc_x(x, flatten=True):\n",
    "    x = x / 255.\n",
    "    if flatten:\n",
    "        x = x.reshape((len(x), -1))\n",
    "    return x\n",
    "\n",
    "def preproc_y(y, num_classes=10):\n",
    "    if y.shape[-1] == 1:\n",
    "        y = np_utils.to_categorical(y, num_classes)\n",
    "    return y    "
   ]
  },
  {
   "cell_type": "code",
   "execution_count": 9,
   "metadata": {},
   "outputs": [],
   "source": [
    "x_train, y_train = train\n",
    "x_test, y_test = test\n",
    "\n",
    "# 資料前處理 - X 標準化\n",
    "x_train = preproc_x(x_train)\n",
    "x_test = preproc_x(x_test)\n",
    "\n",
    "# 資料前處理 -Y 轉成 onehot\n",
    "y_train = preproc_y(y_train)\n",
    "y_test = preproc_y(y_test)"
   ]
  },
  {
   "cell_type": "code",
   "execution_count": 10,
   "metadata": {},
   "outputs": [],
   "source": [
    "def build_mlp(input_shape, output_units=10, num_neurons=[512, 256, 128]):\n",
    "    input_layer = keras.layers.Input(input_shape)\n",
    "    \n",
    "    for i, n_units in enumerate(num_neurons):\n",
    "        if i == 0:\n",
    "            x = keras.layers.Dense(units=n_units, activation=\"relu\", name=\"hidden_layer\"+str(i+1))(input_layer)\n",
    "        else:\n",
    "            x = keras.layers.Dense(units=n_units, activation=\"relu\", name=\"hidden_layer\"+str(i+1))(x)\n",
    "    \n",
    "    out = keras.layers.Dense(units=output_units, activation=\"softmax\", name=\"output\")(x)\n",
    "    \n",
    "    model = keras.models.Model(inputs=[input_layer], outputs=[out])\n",
    "    return model"
   ]
  },
  {
   "cell_type": "code",
   "execution_count": 11,
   "metadata": {},
   "outputs": [],
   "source": [
    "## 超參數設定\n",
    "LEARNING_RATE = [1e-1, 1e-2, 1e-3, 1e-4, 1e-5]\n",
    "EPOCHS = 50\n",
    "BATCH_SIZE = 256\n",
    "MOMENTUM = 0.95"
   ]
  },
  {
   "cell_type": "code",
   "execution_count": 16,
   "metadata": {
    "scrolled": true
   },
   "outputs": [
    {
     "name": "stdout",
     "output_type": "stream",
     "text": [
      "Experiment with LR = 0.100000\n",
      "Model: \"model\"\n",
      "_________________________________________________________________\n",
      " Layer (type)                Output Shape              Param #   \n",
      "=================================================================\n",
      " input_1 (InputLayer)        [(None, 3072)]            0         \n",
      "                                                                 \n",
      " hidden_layer1 (Dense)       (None, 512)               1573376   \n",
      "                                                                 \n",
      " hidden_layer2 (Dense)       (None, 256)               131328    \n",
      "                                                                 \n",
      " hidden_layer3 (Dense)       (None, 128)               32896     \n",
      "                                                                 \n",
      " output (Dense)              (None, 10)                1290      \n",
      "                                                                 \n",
      "=================================================================\n",
      "Total params: 1,738,890\n",
      "Trainable params: 1,738,890\n",
      "Non-trainable params: 0\n",
      "_________________________________________________________________\n"
     ]
    },
    {
     "name": "stderr",
     "output_type": "stream",
     "text": [
      "C:\\1_220107_Anaconda3\\lib\\site-packages\\keras\\optimizer_v2\\gradient_descent.py:102: UserWarning: The `lr` argument is deprecated, use `learning_rate` instead.\n",
      "  super(SGD, self).__init__(name, **kwargs)\n"
     ]
    },
    {
     "name": "stdout",
     "output_type": "stream",
     "text": [
      "Epoch 1/50\n",
      "196/196 [==============================] - 7s 32ms/step - loss: 2.1706 - accuracy: 0.1682 - val_loss: 2.0446 - val_accuracy: 0.1971\n",
      "Epoch 2/50\n",
      "196/196 [==============================] - 5s 28ms/step - loss: 1.9856 - accuracy: 0.2333 - val_loss: 1.9316 - val_accuracy: 0.2566\n",
      "Epoch 3/50\n",
      "196/196 [==============================] - 5s 28ms/step - loss: 1.8977 - accuracy: 0.2801 - val_loss: 1.9040 - val_accuracy: 0.2852\n",
      "Epoch 4/50\n",
      "196/196 [==============================] - 5s 27ms/step - loss: 1.8705 - accuracy: 0.2953 - val_loss: 1.8632 - val_accuracy: 0.3071\n",
      "Epoch 5/50\n",
      "196/196 [==============================] - 6s 28ms/step - loss: 1.8204 - accuracy: 0.3262 - val_loss: 1.8850 - val_accuracy: 0.3091\n",
      "Epoch 6/50\n",
      "196/196 [==============================] - 5s 27ms/step - loss: 1.8123 - accuracy: 0.3299 - val_loss: 1.7951 - val_accuracy: 0.3413\n",
      "Epoch 7/50\n",
      "196/196 [==============================] - 5s 26ms/step - loss: 1.7942 - accuracy: 0.3408 - val_loss: 1.8001 - val_accuracy: 0.3355\n",
      "Epoch 8/50\n",
      "196/196 [==============================] - 5s 26ms/step - loss: 1.7833 - accuracy: 0.3458 - val_loss: 1.7863 - val_accuracy: 0.3437\n",
      "Epoch 9/50\n",
      "196/196 [==============================] - 5s 27ms/step - loss: 1.7858 - accuracy: 0.3470 - val_loss: 1.8521 - val_accuracy: 0.3266\n",
      "Epoch 10/50\n",
      "196/196 [==============================] - 5s 27ms/step - loss: 1.7583 - accuracy: 0.3594 - val_loss: 1.9182 - val_accuracy: 0.3149\n",
      "Epoch 11/50\n",
      "196/196 [==============================] - 5s 26ms/step - loss: 1.7196 - accuracy: 0.3783 - val_loss: 1.8143 - val_accuracy: 0.3483\n",
      "Epoch 12/50\n",
      "196/196 [==============================] - 5s 26ms/step - loss: 1.6932 - accuracy: 0.3914 - val_loss: 1.7395 - val_accuracy: 0.3801\n",
      "Epoch 13/50\n",
      "196/196 [==============================] - 5s 26ms/step - loss: 1.6870 - accuracy: 0.3912 - val_loss: 1.6992 - val_accuracy: 0.3838\n",
      "Epoch 14/50\n",
      "196/196 [==============================] - 5s 26ms/step - loss: 1.6805 - accuracy: 0.3968 - val_loss: 1.7599 - val_accuracy: 0.3617\n",
      "Epoch 15/50\n",
      "196/196 [==============================] - 5s 27ms/step - loss: 1.6815 - accuracy: 0.3983 - val_loss: 1.7627 - val_accuracy: 0.3736\n",
      "Epoch 16/50\n",
      "196/196 [==============================] - 5s 27ms/step - loss: 1.6726 - accuracy: 0.4012 - val_loss: 1.7668 - val_accuracy: 0.3737\n",
      "Epoch 17/50\n",
      "196/196 [==============================] - 5s 27ms/step - loss: 1.6644 - accuracy: 0.4027 - val_loss: 1.7885 - val_accuracy: 0.3606\n",
      "Epoch 18/50\n",
      "196/196 [==============================] - 6s 29ms/step - loss: 1.6608 - accuracy: 0.4058 - val_loss: 1.6976 - val_accuracy: 0.3804\n",
      "Epoch 19/50\n",
      "196/196 [==============================] - 6s 28ms/step - loss: 1.6461 - accuracy: 0.4082 - val_loss: 1.7089 - val_accuracy: 0.3916\n",
      "Epoch 20/50\n",
      "196/196 [==============================] - 6s 28ms/step - loss: 1.6434 - accuracy: 0.4105 - val_loss: 1.7340 - val_accuracy: 0.3890\n",
      "Epoch 21/50\n",
      "196/196 [==============================] - 5s 28ms/step - loss: 1.6433 - accuracy: 0.4142 - val_loss: 1.7595 - val_accuracy: 0.3720\n",
      "Epoch 22/50\n",
      "196/196 [==============================] - 6s 28ms/step - loss: 1.6362 - accuracy: 0.4151 - val_loss: 1.7461 - val_accuracy: 0.3779\n",
      "Epoch 23/50\n",
      "196/196 [==============================] - 5s 28ms/step - loss: 1.6389 - accuracy: 0.4165 - val_loss: 1.7376 - val_accuracy: 0.3808\n",
      "Epoch 24/50\n",
      "196/196 [==============================] - 6s 28ms/step - loss: 1.6318 - accuracy: 0.4161 - val_loss: 1.8066 - val_accuracy: 0.3611\n",
      "Epoch 25/50\n",
      "196/196 [==============================] - 5s 28ms/step - loss: 1.6343 - accuracy: 0.4181 - val_loss: 1.7071 - val_accuracy: 0.3892\n",
      "Epoch 26/50\n",
      "196/196 [==============================] - 6s 29ms/step - loss: 1.6335 - accuracy: 0.4182 - val_loss: 1.7744 - val_accuracy: 0.3758\n",
      "Epoch 27/50\n",
      "196/196 [==============================] - 6s 30ms/step - loss: 1.6418 - accuracy: 0.4134 - val_loss: 1.8415 - val_accuracy: 0.3582\n",
      "Epoch 28/50\n",
      "196/196 [==============================] - 7s 33ms/step - loss: 1.6308 - accuracy: 0.4206 - val_loss: 1.7413 - val_accuracy: 0.3855\n",
      "Epoch 29/50\n",
      "196/196 [==============================] - 6s 33ms/step - loss: 1.6210 - accuracy: 0.4244 - val_loss: 1.7212 - val_accuracy: 0.3940\n",
      "Epoch 30/50\n",
      "196/196 [==============================] - 5s 28ms/step - loss: 1.6048 - accuracy: 0.4316 - val_loss: 1.6982 - val_accuracy: 0.4056\n",
      "Epoch 31/50\n",
      "196/196 [==============================] - 5s 26ms/step - loss: 1.6041 - accuracy: 0.4296 - val_loss: 1.7077 - val_accuracy: 0.3877\n",
      "Epoch 32/50\n",
      "196/196 [==============================] - 5s 26ms/step - loss: 1.6056 - accuracy: 0.4311 - val_loss: 1.8225 - val_accuracy: 0.3671\n",
      "Epoch 33/50\n",
      "196/196 [==============================] - 5s 26ms/step - loss: 1.6058 - accuracy: 0.4320 - val_loss: 1.7319 - val_accuracy: 0.3842\n",
      "Epoch 34/50\n",
      "196/196 [==============================] - 5s 26ms/step - loss: 1.5948 - accuracy: 0.4347 - val_loss: 1.7578 - val_accuracy: 0.3713\n",
      "Epoch 35/50\n",
      "196/196 [==============================] - 5s 27ms/step - loss: 1.5885 - accuracy: 0.4389 - val_loss: 1.7664 - val_accuracy: 0.3919\n",
      "Epoch 36/50\n",
      "196/196 [==============================] - 6s 28ms/step - loss: 1.5890 - accuracy: 0.4372 - val_loss: 1.7558 - val_accuracy: 0.3866\n",
      "Epoch 37/50\n",
      "196/196 [==============================] - 5s 27ms/step - loss: 1.5867 - accuracy: 0.4384 - val_loss: 1.6448 - val_accuracy: 0.4120\n",
      "Epoch 38/50\n",
      "196/196 [==============================] - 5s 27ms/step - loss: 1.5828 - accuracy: 0.4389 - val_loss: 1.6748 - val_accuracy: 0.4094\n",
      "Epoch 39/50\n",
      "196/196 [==============================] - 5s 26ms/step - loss: 1.5843 - accuracy: 0.4395 - val_loss: 1.7695 - val_accuracy: 0.3792\n",
      "Epoch 40/50\n",
      "196/196 [==============================] - 5s 27ms/step - loss: 1.5901 - accuracy: 0.4365 - val_loss: 1.6476 - val_accuracy: 0.4178\n",
      "Epoch 41/50\n",
      "196/196 [==============================] - 5s 26ms/step - loss: 1.5631 - accuracy: 0.4459 - val_loss: 1.6651 - val_accuracy: 0.4124\n",
      "Epoch 42/50\n",
      "196/196 [==============================] - 5s 26ms/step - loss: 1.5608 - accuracy: 0.4464 - val_loss: 1.6612 - val_accuracy: 0.4164\n",
      "Epoch 43/50\n",
      "196/196 [==============================] - 6s 31ms/step - loss: 1.5606 - accuracy: 0.4485 - val_loss: 1.7639 - val_accuracy: 0.3881\n",
      "Epoch 44/50\n",
      "196/196 [==============================] - 7s 37ms/step - loss: 1.5604 - accuracy: 0.4455 - val_loss: 1.6949 - val_accuracy: 0.4076\n",
      "Epoch 45/50\n",
      "196/196 [==============================] - 6s 31ms/step - loss: 1.5582 - accuracy: 0.4507 - val_loss: 1.6778 - val_accuracy: 0.4106\n",
      "Epoch 46/50\n",
      "196/196 [==============================] - 7s 37ms/step - loss: 1.5560 - accuracy: 0.4473 - val_loss: 1.6698 - val_accuracy: 0.4131\n",
      "Epoch 47/50\n",
      "196/196 [==============================] - 6s 32ms/step - loss: 1.5571 - accuracy: 0.4492 - val_loss: 1.7081 - val_accuracy: 0.3933\n",
      "Epoch 48/50\n",
      "196/196 [==============================] - 6s 31ms/step - loss: 1.5414 - accuracy: 0.4530 - val_loss: 1.6948 - val_accuracy: 0.4049\n",
      "Epoch 49/50\n",
      "196/196 [==============================] - 5s 27ms/step - loss: 1.5514 - accuracy: 0.4483 - val_loss: 1.6635 - val_accuracy: 0.4174\n",
      "Epoch 50/50\n",
      "196/196 [==============================] - 6s 28ms/step - loss: 1.5454 - accuracy: 0.4517 - val_loss: 1.7228 - val_accuracy: 0.3879\n"
     ]
    },
    {
     "ename": "KeyError",
     "evalue": "'acc'",
     "output_type": "error",
     "traceback": [
      "\u001b[1;31m---------------------------------------------------------------------------\u001b[0m",
      "\u001b[1;31mKeyError\u001b[0m                                  Traceback (most recent call last)",
      "\u001b[1;32m~\\AppData\\Local\\Temp/ipykernel_43180/2508069956.py\u001b[0m in \u001b[0;36m<module>\u001b[1;34m\u001b[0m\n\u001b[0;32m     21\u001b[0m     \u001b[0mtrain_loss\u001b[0m \u001b[1;33m=\u001b[0m \u001b[0mmodel\u001b[0m\u001b[1;33m.\u001b[0m\u001b[0mhistory\u001b[0m\u001b[1;33m.\u001b[0m\u001b[0mhistory\u001b[0m\u001b[1;33m[\u001b[0m\u001b[1;34m\"loss\"\u001b[0m\u001b[1;33m]\u001b[0m\u001b[1;33m\u001b[0m\u001b[1;33m\u001b[0m\u001b[0m\n\u001b[0;32m     22\u001b[0m     \u001b[0mvalid_loss\u001b[0m \u001b[1;33m=\u001b[0m \u001b[0mmodel\u001b[0m\u001b[1;33m.\u001b[0m\u001b[0mhistory\u001b[0m\u001b[1;33m.\u001b[0m\u001b[0mhistory\u001b[0m\u001b[1;33m[\u001b[0m\u001b[1;34m\"val_loss\"\u001b[0m\u001b[1;33m]\u001b[0m\u001b[1;33m\u001b[0m\u001b[1;33m\u001b[0m\u001b[0m\n\u001b[1;32m---> 23\u001b[1;33m     \u001b[0mtrain_acc\u001b[0m \u001b[1;33m=\u001b[0m \u001b[0mmodel\u001b[0m\u001b[1;33m.\u001b[0m\u001b[0mhistory\u001b[0m\u001b[1;33m.\u001b[0m\u001b[0mhistory\u001b[0m\u001b[1;33m[\u001b[0m\u001b[1;34m\"acc\"\u001b[0m\u001b[1;33m]\u001b[0m\u001b[1;33m\u001b[0m\u001b[1;33m\u001b[0m\u001b[0m\n\u001b[0m\u001b[0;32m     24\u001b[0m     \u001b[0mvalid_acc\u001b[0m \u001b[1;33m=\u001b[0m \u001b[0mmodel\u001b[0m\u001b[1;33m.\u001b[0m\u001b[0mhistory\u001b[0m\u001b[1;33m.\u001b[0m\u001b[0mhistory\u001b[0m\u001b[1;33m[\u001b[0m\u001b[1;34m\"val_acc\"\u001b[0m\u001b[1;33m]\u001b[0m\u001b[1;33m\u001b[0m\u001b[1;33m\u001b[0m\u001b[0m\n\u001b[0;32m     25\u001b[0m \u001b[1;33m\u001b[0m\u001b[0m\n",
      "\u001b[1;31mKeyError\u001b[0m: 'acc'"
     ]
    }
   ],
   "source": [
    "results = {}\n",
    "\"\"\"\n",
    "使用迴圈，建立不同 Learning rate 的模型並訓練\n",
    "\"\"\"\n",
    "import tensorflow as tf \n",
    "for lr in LEARNING_RATE:\n",
    "    keras.backend.clear_session() # 把舊的 Graph 清掉\n",
    "    print(\"Experiment with LR = %.6f\" % (lr))\n",
    "    model = build_mlp(input_shape=x_train.shape[1:])\n",
    "    model.summary()\n",
    "    optimizer = tf.keras.optimizers.SGD(lr=lr, nesterov=True, momentum=MOMENTUM)\n",
    "    model.compile(loss=\"categorical_crossentropy\", metrics=[\"accuracy\"], optimizer=optimizer)\n",
    "\n",
    "    model.fit(x_train, y_train, \n",
    "              epochs=EPOCHS, \n",
    "              batch_size=BATCH_SIZE, \n",
    "              validation_data=(x_test, y_test), \n",
    "              shuffle=True)\n",
    "    \n",
    "    # Collect results\n",
    "    train_loss = model.history.history[\"loss\"]\n",
    "    valid_loss = model.history.history[\"val_loss\"]\n",
    "    train_acc = model.history.history[\"acc\"]\n",
    "    valid_acc = model.history.history[\"val_acc\"]\n",
    "    \n",
    "    exp_name_tag = \"exp-lr-%s\" % str(lr)\n",
    "    results[exp_name_tag] = {'train-loss': train_loss,\n",
    "                             'valid-loss': valid_loss,\n",
    "                             'train-acc': train_acc,\n",
    "                             'valid-acc': valid_acc}\n"
   ]
  },
  {
   "cell_type": "code",
   "execution_count": 17,
   "metadata": {},
   "outputs": [
    {
     "name": "stderr",
     "output_type": "stream",
     "text": [
      "No artists with labels found to put in legend.  Note that artists whose label start with an underscore are ignored when legend() is called with no argument.\n"
     ]
    },
    {
     "data": {
      "image/png": "[encoded data removed]",
      "text/plain": [
       "<Figure size 576x432 with 1 Axes>"
      ]
     },
     "metadata": {
      "needs_background": "light"
     },
     "output_type": "display_data"
    },
    {
     "name": "stderr",
     "output_type": "stream",
     "text": [
      "No artists with labels found to put in legend.  Note that artists whose label start with an underscore are ignored when legend() is called with no argument.\n"
     ]
    },
    {
     "data": {
      "image/png": "[encoded data removed]",
      "text/plain": [
       "<Figure size 576x432 with 1 Axes>"
      ]
     },
     "metadata": {
      "needs_background": "light"
     },
     "output_type": "display_data"
    }
   ],
   "source": [
    "import matplotlib.pyplot as plt\n",
    "%matplotlib inline\n",
    "color_bar = [\"r\", \"g\", \"b\", \"y\", \"m\", \"k\"]\n",
    "\n",
    "plt.figure(figsize=(8,6))\n",
    "for i, cond in enumerate(results.keys()):\n",
    "    plt.plot(range(len(results[cond]['train-loss'])),results[cond]['train-loss'], '-', label=cond, color=color_bar[i])\n",
    "    plt.plot(range(len(results[cond]['valid-loss'])),results[cond]['valid-loss'], '--', label=cond, color=color_bar[i])\n",
    "plt.title(\"Loss\")\n",
    "plt.legend()\n",
    "plt.show()\n",
    "\n",
    "plt.figure(figsize=(8,6))\n",
    "for i, cond in enumerate(results.keys()):\n",
    "    plt.plot(range(len(results[cond]['train-acc'])),results[cond]['train-acc'], '-', label=cond, color=color_bar[i])\n",
    "    plt.plot(range(len(results[cond]['valid-acc'])),results[cond]['valid-acc'], '--', label=cond, color=color_bar[i])\n",
    "plt.title(\"Accuracy\")\n",
    "plt.legend()\n",
    "plt.show()"
   ]
  },
  {
   "cell_type": "code",
   "execution_count": null,
   "metadata": {},
   "outputs": [],
   "source": []
  }
 ],
 "metadata": {
  "kernelspec": {
   "display_name": "Python 3 (ipykernel)",
   "language": "python",
   "name": "python3"
  },
  "language_info": {
   "codemirror_mode": {
    "name": "ipython",
    "version": 3
   },
   "file_extension": ".py",
   "mimetype": "text/x-python",
   "name": "python",
   "nbconvert_exporter": "python",
   "pygments_lexer": "ipython3",
   "version": "3.9.7"
  }
 },
 "nbformat": 4,
 "nbformat_minor": 2
}
