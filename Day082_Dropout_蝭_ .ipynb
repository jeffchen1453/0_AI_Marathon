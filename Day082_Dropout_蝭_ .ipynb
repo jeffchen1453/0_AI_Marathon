{
 "cells": [
  {
   "cell_type": "markdown",
   "metadata": {},
   "source": [
    "## 範例重點\n",
    "* 知道如何在 keras 中加入 dropout\n",
    "* 了解 dropout 中 ratio 的意義與對訓練的影響"
   ]
  },
  {
   "cell_type": "code",
   "execution_count": 1,
   "metadata": {},
   "outputs": [
    {
     "name": "stderr",
     "output_type": "stream",
     "text": [
      "/home/seanyu/.conda/envs/tf18_keras/lib/python3.6/site-packages/h5py/__init__.py:36: FutureWarning: Conversion of the second argument of issubdtype from `float` to `np.floating` is deprecated. In future, it will be treated as `np.float64 == np.dtype(float).type`.\n",
      "  from ._conv import register_converters as _register_converters\n",
      "Using TensorFlow backend.\n"
     ]
    }
   ],
   "source": [
    "import os\n",
    "import keras\n",
    "\n",
    "# 本範例不需使用 GPU, 將 GPU 設定為 \"無\"\n",
    "os.environ[\"CUDA_VISIBLE_DEVICES\"] = \"\""
   ]
  },
  {
   "cell_type": "code",
   "execution_count": 2,
   "metadata": {},
   "outputs": [],
   "source": [
    "train, test = keras.datasets.cifar10.load_data()"
   ]
  },
  {
   "cell_type": "code",
   "execution_count": 3,
   "metadata": {},
   "outputs": [],
   "source": [
    "## 資料前處理\n",
    "def preproc_x(x, flatten=True):\n",
    "    x = x / 255.\n",
    "    if flatten:\n",
    "        x = x.reshape((len(x), -1))\n",
    "    return x\n",
    "\n",
    "def preproc_y(y, num_classes=10):\n",
    "    if y.shape[-1] == 1:\n",
    "        y = keras.utils.to_categorical(y, num_classes)\n",
    "    return y    "
   ]
  },
  {
   "cell_type": "code",
   "execution_count": 4,
   "metadata": {},
   "outputs": [],
   "source": [
    "x_train, y_train = train\n",
    "x_test, y_test = test\n",
    "\n",
    "# 資料前處理 - X 標準化\n",
    "x_train = preproc_x(x_train)\n",
    "x_test = preproc_x(x_test)\n",
    "\n",
    "# 資料前處理 -Y 轉成 onehot\n",
    "y_train = preproc_y(y_train)\n",
    "y_test = preproc_y(y_test)"
   ]
  },
  {
   "cell_type": "code",
   "execution_count": 5,
   "metadata": {},
   "outputs": [],
   "source": [
    "from keras.layers import Dropout\n",
    "\n",
    "\"\"\"\n",
    "建立神經網路，並加入 dropout layer\n",
    "\"\"\"\n",
    "def build_mlp(input_shape, output_units=10, num_neurons=[512, 256, 128], drp_ratio=0.2):\n",
    "    input_layer = keras.layers.Input(input_shape)\n",
    "    \n",
    "    for i, n_units in enumerate(num_neurons):\n",
    "        if i == 0:\n",
    "            x = keras.layers.Dense(units=n_units, \n",
    "                                   activation=\"relu\", \n",
    "                                   name=\"hidden_layer\"+str(i+1))(input_layer)\n",
    "            x = Dropout(drp_ratio)(x)\n",
    "        else:\n",
    "            x = keras.layers.Dense(units=n_units, \n",
    "                                   activation=\"relu\", \n",
    "                                   name=\"hidden_layer\"+str(i+1))(x)\n",
    "            x = Dropout(drp_ratio)(x)\n",
    "    \n",
    "    out = keras.layers.Dense(units=output_units, activation=\"softmax\", name=\"output\")(x)\n",
    "    \n",
    "    model = keras.models.Model(inputs=[input_layer], outputs=[out])\n",
    "    return model"
   ]
  },
  {
   "cell_type": "code",
   "execution_count": 6,
   "metadata": {},
   "outputs": [],
   "source": [
    "## 超參數設定\n",
    "LEARNING_RATE = 1e-3\n",
    "EPOCHS = 50\n",
    "BATCH_SIZE = 256\n",
    "MOMENTUM = 0.95\n",
    "Dropout_EXP = 0.25"
   ]
  },
  {
   "cell_type": "code",
   "execution_count": 7,
   "metadata": {
    "scrolled": true
   },
   "outputs": [
    {
     "name": "stdout",
     "output_type": "stream",
     "text": [
      "_________________________________________________________________\n",
      "Layer (type)                 Output Shape              Param #   \n",
      "=================================================================\n",
      "input_1 (InputLayer)         (None, 3072)              0         \n",
      "_________________________________________________________________\n",
      "hidden_layer1 (Dense)        (None, 512)               1573376   \n",
      "_________________________________________________________________\n",
      "dropout_1 (Dropout)          (None, 512)               0         \n",
      "_________________________________________________________________\n",
      "hidden_layer2 (Dense)        (None, 256)               131328    \n",
      "_________________________________________________________________\n",
      "dropout_2 (Dropout)          (None, 256)               0         \n",
      "_________________________________________________________________\n",
      "hidden_layer3 (Dense)        (None, 128)               32896     \n",
      "_________________________________________________________________\n",
      "dropout_3 (Dropout)          (None, 128)               0         \n",
      "_________________________________________________________________\n",
      "output (Dense)               (None, 10)                1290      \n",
      "=================================================================\n",
      "Total params: 1,738,890\n",
      "Trainable params: 1,738,890\n",
      "Non-trainable params: 0\n",
      "_________________________________________________________________\n",
      "Train on 50000 samples, validate on 10000 samples\n",
      "Epoch 1/50\n",
      "50000/50000 [==============================] - 5s 93us/step - loss: 2.2077 - acc: 0.1757 - val_loss: 2.0082 - val_acc: 0.2971\n",
      "Epoch 2/50\n",
      "50000/50000 [==============================] - 4s 90us/step - loss: 2.0065 - acc: 0.2608 - val_loss: 1.8772 - val_acc: 0.3414\n",
      "Epoch 3/50\n",
      "50000/50000 [==============================] - 5s 93us/step - loss: 1.9171 - acc: 0.3058 - val_loss: 1.8045 - val_acc: 0.3683\n",
      "Epoch 4/50\n",
      "50000/50000 [==============================] - 4s 85us/step - loss: 1.8538 - acc: 0.3331 - val_loss: 1.7537 - val_acc: 0.3864\n",
      "Epoch 5/50\n",
      "50000/50000 [==============================] - 5s 92us/step - loss: 1.8110 - acc: 0.3484 - val_loss: 1.7034 - val_acc: 0.4042\n",
      "Epoch 6/50\n",
      "50000/50000 [==============================] - 4s 86us/step - loss: 1.7765 - acc: 0.3619 - val_loss: 1.6696 - val_acc: 0.4163\n",
      "Epoch 7/50\n",
      "50000/50000 [==============================] - 4s 85us/step - loss: 1.7472 - acc: 0.3759 - val_loss: 1.6452 - val_acc: 0.4184\n",
      "Epoch 8/50\n",
      "50000/50000 [==============================] - 5s 93us/step - loss: 1.7191 - acc: 0.3863 - val_loss: 1.6221 - val_acc: 0.4289\n",
      "Epoch 9/50\n",
      "50000/50000 [==============================] - 4s 85us/step - loss: 1.6956 - acc: 0.3954 - val_loss: 1.5932 - val_acc: 0.4417\n",
      "Epoch 10/50\n",
      "50000/50000 [==============================] - 5s 92us/step - loss: 1.6789 - acc: 0.4041 - val_loss: 1.5780 - val_acc: 0.4469\n",
      "Epoch 11/50\n",
      "50000/50000 [==============================] - 4s 82us/step - loss: 1.6572 - acc: 0.4094 - val_loss: 1.5615 - val_acc: 0.4488\n",
      "Epoch 12/50\n",
      "50000/50000 [==============================] - 4s 83us/step - loss: 1.6380 - acc: 0.4176 - val_loss: 1.5403 - val_acc: 0.4595\n",
      "Epoch 13/50\n",
      "50000/50000 [==============================] - 4s 83us/step - loss: 1.6239 - acc: 0.4215 - val_loss: 1.5406 - val_acc: 0.4510\n",
      "Epoch 14/50\n",
      "50000/50000 [==============================] - 5s 91us/step - loss: 1.6040 - acc: 0.4297 - val_loss: 1.5198 - val_acc: 0.4629\n",
      "Epoch 15/50\n",
      "50000/50000 [==============================] - 4s 88us/step - loss: 1.5906 - acc: 0.4328 - val_loss: 1.5018 - val_acc: 0.4712\n",
      "Epoch 16/50\n",
      "50000/50000 [==============================] - 4s 82us/step - loss: 1.5751 - acc: 0.4388 - val_loss: 1.4840 - val_acc: 0.4734\n",
      "Epoch 17/50\n",
      "50000/50000 [==============================] - 4s 82us/step - loss: 1.5666 - acc: 0.4411 - val_loss: 1.4791 - val_acc: 0.4755\n",
      "Epoch 18/50\n",
      "50000/50000 [==============================] - 4s 84us/step - loss: 1.5509 - acc: 0.4471 - val_loss: 1.4677 - val_acc: 0.4781\n",
      "Epoch 19/50\n",
      "50000/50000 [==============================] - 5s 91us/step - loss: 1.5391 - acc: 0.4502 - val_loss: 1.4628 - val_acc: 0.4798\n",
      "Epoch 20/50\n",
      "50000/50000 [==============================] - 4s 84us/step - loss: 1.5286 - acc: 0.4566 - val_loss: 1.4553 - val_acc: 0.4819\n",
      "Epoch 21/50\n",
      "50000/50000 [==============================] - 4s 83us/step - loss: 1.5196 - acc: 0.4582 - val_loss: 1.4394 - val_acc: 0.4866\n",
      "Epoch 22/50\n",
      "50000/50000 [==============================] - 4s 84us/step - loss: 1.5080 - acc: 0.4624 - val_loss: 1.4377 - val_acc: 0.4851\n",
      "Epoch 23/50\n",
      "50000/50000 [==============================] - 4s 83us/step - loss: 1.4941 - acc: 0.4663 - val_loss: 1.4233 - val_acc: 0.4934\n",
      "Epoch 24/50\n",
      "50000/50000 [==============================] - 4s 82us/step - loss: 1.4870 - acc: 0.4703 - val_loss: 1.4343 - val_acc: 0.4891\n",
      "Epoch 25/50\n",
      "50000/50000 [==============================] - 4s 84us/step - loss: 1.4767 - acc: 0.4710 - val_loss: 1.4123 - val_acc: 0.4968\n",
      "Epoch 26/50\n",
      "50000/50000 [==============================] - 4s 86us/step - loss: 1.4651 - acc: 0.4777 - val_loss: 1.4073 - val_acc: 0.5005\n",
      "Epoch 27/50\n",
      "50000/50000 [==============================] - 4s 87us/step - loss: 1.4563 - acc: 0.4816 - val_loss: 1.4073 - val_acc: 0.4952\n",
      "Epoch 28/50\n",
      "50000/50000 [==============================] - 4s 82us/step - loss: 1.4443 - acc: 0.4873 - val_loss: 1.3954 - val_acc: 0.5030\n",
      "Epoch 29/50\n",
      "50000/50000 [==============================] - 4s 84us/step - loss: 1.4374 - acc: 0.4879 - val_loss: 1.3973 - val_acc: 0.4991\n",
      "Epoch 30/50\n",
      "50000/50000 [==============================] - 4s 88us/step - loss: 1.4313 - acc: 0.4913 - val_loss: 1.3904 - val_acc: 0.5060\n",
      "Epoch 31/50\n",
      "50000/50000 [==============================] - 4s 83us/step - loss: 1.4207 - acc: 0.4926 - val_loss: 1.3811 - val_acc: 0.5020\n",
      "Epoch 32/50\n",
      "50000/50000 [==============================] - 4s 88us/step - loss: 1.4121 - acc: 0.4958 - val_loss: 1.3708 - val_acc: 0.5152\n",
      "Epoch 33/50\n",
      "50000/50000 [==============================] - 4s 83us/step - loss: 1.4050 - acc: 0.4966 - val_loss: 1.3651 - val_acc: 0.5111\n",
      "Epoch 34/50\n",
      "50000/50000 [==============================] - 4s 82us/step - loss: 1.3978 - acc: 0.4997 - val_loss: 1.3576 - val_acc: 0.5112\n",
      "Epoch 35/50\n",
      "50000/50000 [==============================] - 4s 81us/step - loss: 1.3892 - acc: 0.5043 - val_loss: 1.3730 - val_acc: 0.5106\n",
      "Epoch 36/50\n",
      "50000/50000 [==============================] - 4s 83us/step - loss: 1.3832 - acc: 0.5050 - val_loss: 1.3530 - val_acc: 0.5211\n",
      "Epoch 37/50\n",
      "50000/50000 [==============================] - 4s 90us/step - loss: 1.3740 - acc: 0.5070 - val_loss: 1.3554 - val_acc: 0.5166\n",
      "Epoch 38/50\n",
      "50000/50000 [==============================] - 4s 84us/step - loss: 1.3656 - acc: 0.5118 - val_loss: 1.3518 - val_acc: 0.5175\n",
      "Epoch 39/50\n",
      "50000/50000 [==============================] - 4s 79us/step - loss: 1.3620 - acc: 0.5128 - val_loss: 1.3405 - val_acc: 0.5164\n",
      "Epoch 40/50\n",
      "50000/50000 [==============================] - 4s 84us/step - loss: 1.3483 - acc: 0.5185 - val_loss: 1.3396 - val_acc: 0.5233\n",
      "Epoch 41/50\n",
      "50000/50000 [==============================] - 5s 95us/step - loss: 1.3477 - acc: 0.5175 - val_loss: 1.3361 - val_acc: 0.5201\n",
      "Epoch 42/50\n",
      "50000/50000 [==============================] - 5s 94us/step - loss: 1.3387 - acc: 0.5225 - val_loss: 1.3365 - val_acc: 0.5227\n",
      "Epoch 43/50\n",
      "50000/50000 [==============================] - 4s 86us/step - loss: 1.3287 - acc: 0.5248 - val_loss: 1.3330 - val_acc: 0.5246\n",
      "Epoch 44/50\n",
      "50000/50000 [==============================] - 4s 85us/step - loss: 1.3244 - acc: 0.5237 - val_loss: 1.3231 - val_acc: 0.5270\n",
      "Epoch 45/50\n",
      "50000/50000 [==============================] - 4s 84us/step - loss: 1.3218 - acc: 0.5276 - val_loss: 1.3283 - val_acc: 0.5248\n",
      "Epoch 46/50\n",
      "50000/50000 [==============================] - 4s 82us/step - loss: 1.3169 - acc: 0.5294 - val_loss: 1.3252 - val_acc: 0.5237\n",
      "Epoch 47/50\n",
      "50000/50000 [==============================] - 4s 83us/step - loss: 1.3059 - acc: 0.5324 - val_loss: 1.3138 - val_acc: 0.5315\n",
      "Epoch 48/50\n",
      "50000/50000 [==============================] - 4s 85us/step - loss: 1.2998 - acc: 0.5346 - val_loss: 1.3215 - val_acc: 0.5278\n",
      "Epoch 49/50\n",
      "50000/50000 [==============================] - 5s 90us/step - loss: 1.2887 - acc: 0.5408 - val_loss: 1.3106 - val_acc: 0.5310\n"
     ]
    },
    {
     "name": "stdout",
     "output_type": "stream",
     "text": [
      "Epoch 50/50\n",
      "50000/50000 [==============================] - 5s 91us/step - loss: 1.2858 - acc: 0.5412 - val_loss: 1.3178 - val_acc: 0.5285\n"
     ]
    }
   ],
   "source": [
    "model = build_mlp(input_shape=x_train.shape[1:], drp_ratio=Dropout_EXP)\n",
    "model.summary()\n",
    "optimizer = keras.optimizers.SGD(lr=LEARNING_RATE, nesterov=True, momentum=MOMENTUM)\n",
    "model.compile(loss=\"categorical_crossentropy\", metrics=[\"accuracy\"], optimizer=optimizer)\n",
    "\n",
    "model.fit(x_train, y_train, \n",
    "          epochs=EPOCHS, \n",
    "          batch_size=BATCH_SIZE, \n",
    "          validation_data=(x_test, y_test), \n",
    "          shuffle=True)\n",
    "\n",
    "# Collect results\n",
    "train_loss = model.history.history[\"loss\"]\n",
    "valid_loss = model.history.history[\"val_loss\"]\n",
    "train_acc = model.history.history[\"acc\"]\n",
    "valid_acc = model.history.history[\"val_acc\"]"
   ]
  },
  {
   "cell_type": "code",
   "execution_count": 1,
   "metadata": {},
   "outputs": [
    {
     "ename": "NameError",
     "evalue": "name 'train_loss' is not defined",
     "output_type": "error",
     "traceback": [
      "\u001b[1;31m---------------------------------------------------------------------------\u001b[0m",
      "\u001b[1;31mNameError\u001b[0m                                 Traceback (most recent call last)",
      "\u001b[1;32m~\\AppData\\Local\\Temp/ipykernel_4712/305180161.py\u001b[0m in \u001b[0;36m<module>\u001b[1;34m\u001b[0m\n\u001b[0;32m      2\u001b[0m \u001b[0mget_ipython\u001b[0m\u001b[1;33m(\u001b[0m\u001b[1;33m)\u001b[0m\u001b[1;33m.\u001b[0m\u001b[0mrun_line_magic\u001b[0m\u001b[1;33m(\u001b[0m\u001b[1;34m'matplotlib'\u001b[0m\u001b[1;33m,\u001b[0m \u001b[1;34m'inline'\u001b[0m\u001b[1;33m)\u001b[0m\u001b[1;33m\u001b[0m\u001b[1;33m\u001b[0m\u001b[0m\n\u001b[0;32m      3\u001b[0m \u001b[1;33m\u001b[0m\u001b[0m\n\u001b[1;32m----> 4\u001b[1;33m \u001b[0mplt\u001b[0m\u001b[1;33m.\u001b[0m\u001b[0mplot\u001b[0m\u001b[1;33m(\u001b[0m\u001b[0mrange\u001b[0m\u001b[1;33m(\u001b[0m\u001b[0mlen\u001b[0m\u001b[1;33m(\u001b[0m\u001b[0mtrain_loss\u001b[0m\u001b[1;33m)\u001b[0m\u001b[1;33m)\u001b[0m\u001b[1;33m,\u001b[0m \u001b[0mtrain_loss\u001b[0m\u001b[1;33m,\u001b[0m \u001b[0mlabel\u001b[0m\u001b[1;33m=\u001b[0m\u001b[1;34m\"train loss\"\u001b[0m\u001b[1;33m)\u001b[0m\u001b[1;33m\u001b[0m\u001b[1;33m\u001b[0m\u001b[0m\n\u001b[0m\u001b[0;32m      5\u001b[0m \u001b[0mplt\u001b[0m\u001b[1;33m.\u001b[0m\u001b[0mplot\u001b[0m\u001b[1;33m(\u001b[0m\u001b[0mrange\u001b[0m\u001b[1;33m(\u001b[0m\u001b[0mlen\u001b[0m\u001b[1;33m(\u001b[0m\u001b[0mvalid_loss\u001b[0m\u001b[1;33m)\u001b[0m\u001b[1;33m)\u001b[0m\u001b[1;33m,\u001b[0m \u001b[0mvalid_loss\u001b[0m\u001b[1;33m,\u001b[0m \u001b[0mlabel\u001b[0m\u001b[1;33m=\u001b[0m\u001b[1;34m\"valid loss\"\u001b[0m\u001b[1;33m)\u001b[0m\u001b[1;33m\u001b[0m\u001b[1;33m\u001b[0m\u001b[0m\n\u001b[0;32m      6\u001b[0m \u001b[0mplt\u001b[0m\u001b[1;33m.\u001b[0m\u001b[0mlegend\u001b[0m\u001b[1;33m(\u001b[0m\u001b[1;33m)\u001b[0m\u001b[1;33m\u001b[0m\u001b[1;33m\u001b[0m\u001b[0m\n",
      "\u001b[1;31mNameError\u001b[0m: name 'train_loss' is not defined"
     ]
    }
   ],
   "source": [
    "import matplotlib.pyplot as plt\n",
    "%matplotlib inline\n",
    "\n",
    "plt.plot(range(len(train_loss)), train_loss, label=\"train loss\")\n",
    "plt.plot(range(len(valid_loss)), valid_loss, label=\"valid loss\")\n",
    "plt.legend()\n",
    "plt.title(\"Loss\")\n",
    "plt.show()\n",
    "\n",
    "plt.plot(range(len(train_acc)), train_acc, label=\"train accuracy\")\n",
    "plt.plot(range(len(valid_acc)), valid_acc, label=\"valid accuracy\")\n",
    "plt.legend()\n",
    "plt.title(\"Accuracy\")\n",
    "plt.show()"
   ]
  },
  {
   "cell_type": "markdown",
   "metadata": {},
   "source": [
    "## Work\n",
    "1. 請比較使用不同層數以及不同 Dropout rate 對訓練的效果\n",
    "2. 將 optimizer 改成使用 Adam 並加上適當的 dropout rate 檢視結果"
   ]
  }
 ],
 "metadata": {
  "kernelspec": {
   "display_name": "Python 3 (ipykernel)",
   "language": "python",
   "name": "python3"
  },
  "language_info": {
   "codemirror_mode": {
    "name": "ipython",
    "version": 3
   },
   "file_extension": ".py",
   "mimetype": "text/x-python",
   "name": "python",
   "nbconvert_exporter": "python",
   "pygments_lexer": "ipython3",
   "version": "3.9.7"
  }
 },
 "nbformat": 4,
 "nbformat_minor": 2
}
